{
 "cells": [
  {
   "cell_type": "markdown",
   "id": "99d04ae8-f25e-428d-a77f-7fdeec6ff5d9",
   "metadata": {},
   "source": [
    "### b. Our Data\n",
    "\n",
    "We will be working with the Berkeley Earth Temperature Data. This dataset contains global temperature measurements starting from 1750. The data includes monthly (or annual) averages that reflect how the Earth's temperature has changed over time.\n",
    "\n",
    "Before we begin our analysis, it’s important to understand what the data represents. Read the accompanying documentation (usually provided with the dataset) to familiarize yourself with:\n",
    "- The columns available (e.g., date, temperature, uncertainty, etc.)\n",
    "- The measurement units and time intervals\n",
    "\n",
    "---\n",
    "\n",
    "## 3. Data Loading and Initial Exploration\n",
    "\n",
    "Let's load our data. For this example, assume the file is named `berkeley_earth_temperature.csv` and is stored in a folder named `data`.\n",
    "\n",
    "### a. Load the Data\n",
    "\n",
    "We'll use `pandas` to read the CSV file and take a quick look at the data:\n"
   ]
  },
  {
   "cell_type": "code",
   "execution_count": 17,
   "id": "7ced9b21-5894-416c-aa1b-00df8e8765dc",
   "metadata": {},
   "outputs": [
    {
     "ename": "ModuleNotFoundError",
     "evalue": "No module named 'request'",
     "output_type": "error",
     "traceback": [
      "\u001b[1;31m---------------------------------------------------------------------------\u001b[0m",
      "\u001b[1;31mModuleNotFoundError\u001b[0m                       Traceback (most recent call last)",
      "Cell \u001b[1;32mIn[17], line 6\u001b[0m\n\u001b[0;32m      4\u001b[0m \u001b[38;5;28;01mimport\u001b[39;00m \u001b[38;5;21;01mmatplotlib\u001b[39;00m\u001b[38;5;21;01m.\u001b[39;00m\u001b[38;5;21;01mpyplot\u001b[39;00m \u001b[38;5;28;01mas\u001b[39;00m \u001b[38;5;21;01mplt\u001b[39;00m\n\u001b[0;32m      5\u001b[0m \u001b[38;5;28;01mimport\u001b[39;00m \u001b[38;5;21;01mseaborn\u001b[39;00m \u001b[38;5;28;01mas\u001b[39;00m \u001b[38;5;21;01msns\u001b[39;00m\n\u001b[1;32m----> 6\u001b[0m \u001b[38;5;28;01mimport\u001b[39;00m \u001b[38;5;21;01mrequest\u001b[39;00m \u001b[38;5;28;01mas\u001b[39;00m \u001b[38;5;21;01mrqs\u001b[39;00m\n\u001b[0;32m      8\u001b[0m \u001b[38;5;66;03m# Set up basic visualization settings\u001b[39;00m\n\u001b[0;32m      9\u001b[0m sns\u001b[38;5;241m.\u001b[39mset(style\u001b[38;5;241m=\u001b[39m\u001b[38;5;124m\"\u001b[39m\u001b[38;5;124mwhitegrid\u001b[39m\u001b[38;5;124m\"\u001b[39m)\n",
      "\u001b[1;31mModuleNotFoundError\u001b[0m: No module named 'request'"
     ]
    }
   ],
   "source": [
    "# Import libraries\n",
    "import pandas as pd\n",
    "import numpy as np\n",
    "import matplotlib.pyplot as plt\n",
    "import seaborn as sns\n",
    "import request as rqs\n",
    "\n",
    "# Set up basic visualization settings\n",
    "sns.set(style=\"whitegrid\")\n",
    "plt.rcParams[\"figure.figsize\"] = (12, 6)\n",
    "\n",
    "print(\"Libraries imported successfully!\")\n"
   ]
  },
  {
   "cell_type": "code",
   "execution_count": null,
   "id": "6c8e2369-8b82-4f89-9df2-1bdb0288f29d",
   "metadata": {},
   "outputs": [],
   "source": []
  },
  {
   "cell_type": "code",
   "execution_count": null,
   "id": "e67e4459-f947-4740-b820-15774eccd7d8",
   "metadata": {},
   "outputs": [],
   "source": []
  }
 ],
 "metadata": {
  "kernelspec": {
   "display_name": "Python [conda env:base] *",
   "language": "python",
   "name": "conda-base-py"
  },
  "language_info": {
   "codemirror_mode": {
    "name": "ipython",
    "version": 3
   },
   "file_extension": ".py",
   "mimetype": "text/x-python",
   "name": "python",
   "nbconvert_exporter": "python",
   "pygments_lexer": "ipython3",
   "version": "3.12.3"
  }
 },
 "nbformat": 4,
 "nbformat_minor": 5
}
